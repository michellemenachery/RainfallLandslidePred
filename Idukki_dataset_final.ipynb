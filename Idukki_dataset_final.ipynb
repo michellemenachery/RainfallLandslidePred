{
  "nbformat": 4,
  "nbformat_minor": 0,
  "metadata": {
    "colab": {
      "provenance": [],
      "collapsed_sections": []
    },
    "kernelspec": {
      "name": "python3",
      "display_name": "Python 3"
    },
    "language_info": {
      "name": "python"
    }
  },
  "cells": [
    {
      "cell_type": "code",
      "metadata": {
        "colab": {
          "resources": {
            "http://localhost:8080/nbextensions/google.colab/files.js": {
              "data": "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",
              "ok": true,
              "headers": [
                [
                  "content-type",
                  "application/javascript"
                ]
              ],
              "status": 200,
              "status_text": ""
            }
          },
          "base_uri": "https://localhost:8080/",
          "height": 72
        },
        "id": "fLfzMDAmOlr9",
        "outputId": "1eec1a74-266b-4f0d-ce76-512a4ebb9494"
      },
      "source": [
        "from google.colab import files\n",
        "uploaded = files.upload()"
      ],
      "execution_count": null,
      "outputs": [
        {
          "output_type": "display_data",
          "data": {
            "text/html": [
              "\n",
              "     <input type=\"file\" id=\"files-338a8218-aed8-42dd-a08b-b3a41099c757\" name=\"files[]\" multiple disabled\n",
              "        style=\"border:none\" />\n",
              "     <output id=\"result-338a8218-aed8-42dd-a08b-b3a41099c757\">\n",
              "      Upload widget is only available when the cell has been executed in the\n",
              "      current browser session. Please rerun this cell to enable.\n",
              "      </output>\n",
              "      <script src=\"/nbextensions/google.colab/files.js\"></script> "
            ],
            "text/plain": [
              "<IPython.core.display.HTML object>"
            ]
          },
          "metadata": {}
        },
        {
          "output_type": "stream",
          "name": "stdout",
          "text": [
            "Saving TESTIDUKKIFINAL.xlsx to TESTIDUKKIFINAL (2).xlsx\n"
          ]
        }
      ]
    },
    {
      "cell_type": "code",
      "metadata": {
        "id": "nauQkrHOOnUW"
      },
      "source": [
        "import numpy as np\n",
        "import pandas as pd\n",
        "import matplotlib.pyplot as plt\n",
        "import seaborn as sns\n",
        "from scipy import stats\n",
        "%matplotlib inline"
      ],
      "execution_count": null,
      "outputs": []
    },
    {
      "cell_type": "code",
      "metadata": {
        "id": "VqRcItrLOsOv"
      },
      "source": [
        "import io\n",
        "train = pd.read_excel(io.BytesIO(uploaded['TESTIDUKKIFINAL.xlsx']))"
      ],
      "execution_count": null,
      "outputs": []
    },
    {
      "cell_type": "code",
      "metadata": {
        "id": "JjX6HHM8Osjs"
      },
      "source": [
        "train.drop_duplicates(inplace=True)"
      ],
      "execution_count": null,
      "outputs": []
    },
    {
      "cell_type": "code",
      "metadata": {
        "id": "Y8EkmoyZOt4L"
      },
      "source": [
        "train.drop('SLIDE_NAME-PLACE',axis=1,inplace=True)\n",
        "train.drop('TOPOSHEET',axis=1,inplace=True)"
      ],
      "execution_count": null,
      "outputs": []
    },
    {
      "cell_type": "code",
      "metadata": {
        "id": "ziuI1VoQOy6S"
      },
      "source": [
        "train.drop('STATE',axis=1,inplace=True)\n",
        "train.drop('DISTRICT',axis=1,inplace=True)\n",
        "train.drop('LONGITUDE',axis=1,inplace=True)\n",
        "train.drop('LATITUDE',axis=1,inplace=True)\n",
        "train.drop('DEPTH',axis=1,inplace=True)\n",
        "train.drop('ACTIVITY',axis=1,inplace=True)\n",
        "train.drop('LS_AREA',axis=1,inplace=True)\n",
        "train.drop('RUNOUT_DIS',axis=1,inplace=True)\n",
        "train.drop('MOVEMENT_R',axis=1,inplace=True)\n",
        "train.drop('PEOPLE_AFF',axis=1,inplace=True)\n",
        "train.drop('LIVESTOCK_',axis=1,inplace=True)\n",
        "train.drop('LANDUSE_LA',axis=1,inplace=True)\n",
        "train.drop('PERSONS_DE',axis=1,inplace=True)\n",
        "train.drop('LANDUSE_LA.1',axis=1,inplace=True)\n",
        "train.drop('GEOSCIENT-REASON',axis=1,inplace=True)\n",
        "train.drop('LS_VOLUME',axis=1,inplace=True)\n",
        "train.drop('INFRASTRUC',axis=1,inplace=True)\n"
      ],
      "execution_count": null,
      "outputs": []
    },
    {
      "cell_type": "code",
      "metadata": {
        "id": "P-sXrDzXPZKp"
      },
      "source": [
        "train.drop('STYLE',axis=1,inplace=True)\n",
        "train.drop('INITIATION',axis=1,inplace=True)"
      ],
      "execution_count": null,
      "outputs": []
    },
    {
      "cell_type": "code",
      "metadata": {
        "id": "U0HTz_B2PfFS"
      },
      "source": [
        "train.drop('LENGTH',axis=1,inplace=True)\n",
        "train.drop('WIDTH',axis=1,inplace=True)\n",
        "train.drop('HEIGHT',axis=1,inplace=True)\n"
      ],
      "execution_count": null,
      "outputs": []
    },
    {
      "cell_type": "code",
      "metadata": {
        "colab": {
          "base_uri": "https://localhost:8080/"
        },
        "id": "V_hHaGU8OvxS",
        "outputId": "c78965ab-5bb8-4678-eb21-1b7635082b2a"
      },
      "source": [
        "train.columns"
      ],
      "execution_count": null,
      "outputs": [
        {
          "output_type": "execute_result",
          "data": {
            "text/plain": [
              "Index(['GEOLOGY', 'SLIDE_TYPE', 'FAILURE_ME', 'GEOMORPHOL', 'HYDROLOGIC',\n",
              "       'TRIGGERING', 'LU_2010', 'LU_2018', 'RECL_SLOPE', 'RCLS_ASPEC',\n",
              "       'D_RainFall'],\n",
              "      dtype='object')"
            ]
          },
          "metadata": {},
          "execution_count": 149
        }
      ]
    },
    {
      "cell_type": "code",
      "metadata": {
        "id": "s9ky6Jl3OydN"
      },
      "source": [
        "train['GEOLOGY']=train['GEOLOGY'].replace(r'^\\s*$', np.nan, regex=True)\n",
        "train['GEOLOGY']=train['GEOLOGY'].replace('Hornblende-biotite gneiss', 'Hornblende biotite gneiss', regex=True)\n",
        "train['GEOLOGY']=train['GEOLOGY'].replace('Hornblende biotite gneiss , highly weathered', 'Hornblende biotite gneiss, highly weathered', regex=True)\n",
        "train['GEOLOGY']=train['GEOLOGY'].replace('Hornblende biotite gneiss highly weathered', 'Hornblende biotite gneiss, highly weathered', regex=True)\n",
        "train['GEOLOGY']=train['GEOLOGY'].replace('Biotite gneiss', 'Biotite Gneiss', regex=True)\n",
        "train['GEOLOGY']=train['GEOLOGY'].replace('Biotite Gneiss, granulites, pyroxenite, amphibolites', 'Biotite Gneiss, granulites, pyroxenites, amphibolites', regex=True)\n",
        "train['GEOLOGY']=train['GEOLOGY'].replace('Charnokite', 'Charnockite', regex=True)\n",
        "train['GEOLOGY']=train['GEOLOGY'].replace('Charnockite, weathered', 'Charnockite,weathered', regex=True)\n",
        "train['GEOLOGY']=train['GEOLOGY'].replace('Hornblende biotite gneiss', 'Hornblende biotite Gneiss', regex=True)\n",
        "train['GEOLOGY']=train['GEOLOGY'].replace('Overburden. Hornblende gneiss', 'Overburden, hornblende gneiss', regex=True)\n",
        "train['GEOLOGY']=train['GEOLOGY'].replace('Hornblende biotite Gneiss, weathered', 'Hornblende biotite Gneiss weathered', regex=True)\n",
        "train['GEOLOGY']=train['GEOLOGY'].replace('Pink granite gneiss', 'Pink Granite Gneiss', regex=True)\n",
        "train['GEOLOGY']=train['GEOLOGY'].replace('gneissic rock', 'Gneissic rock', regex=True)\n",
        "train['GEOLOGY']=train['GEOLOGY'].replace('biotite gneiss', 'Biotite Gneiss', regex=True)\n",
        "train['GEOLOGY']=train['GEOLOGY'].replace('Precambrian shield-gneiss, granulites, Biotite Gneiss, pyroxenite and amphibolites.', 'Precambrian shield- gneiss, granulites, Biotite Gneiss, pyroxenite and amphibolites', regex=True)\n",
        "train['GEOLOGY']=train['GEOLOGY'].replace('Precambrian shield- gneiss, granulites, Biotite Gneiss, pyroxenite and amphibolites', 'Precambrian shield - gneiss, granulites, Biotite Gneiss, pyroxenite and amphibolites', regex=True)\n",
        "train['GEOLOGY']=train['GEOLOGY'].replace('Precambrian shield characterized by gneiss, granulites, Biotite Gneiss, pyroxenite and amphibolites', 'Precambrian shield - gneiss, granulites, Biotite Gneiss, pyroxenite and amphibolites', regex=True)\n",
        "train['GEOLOGY']=train['GEOLOGY'].replace('Precambrian shield - gneiss, granulites, Biotite Gneiss, pyroxenite and amphibolites,bands of thin lenticular leucocratic quartz ,feldspars & melanocratic biotite', 'Precambrian shield', regex=True)\n",
        "train['GEOLOGY']=train['GEOLOGY'].replace('Precambrian shield - gneiss, granulites, Biotite Gneiss, pyroxenite and amphibolites', 'Precambrian shield', regex=True)\n",
        "train['GEOLOGY']=train['GEOLOGY'].replace('Southern Precambrian shield- Biotite Gneiss, charnockite gneiss, pyrozenite and amphibolites. Lateritic soil', 'Southern Precambrian shield', regex=True)\n",
        "train['GEOLOGY']=train['GEOLOGY'].replace('Biotite Gneiss with garnet, charnockite gneiss, amphibolites overlain by laterite soil', 'Biotite Gneiss,garnet,charnockite gneiss,amphibolites', regex=True)\n"
      ],
      "execution_count": null,
      "outputs": []
    },
    {
      "cell_type": "code",
      "metadata": {
        "id": "cKBs7be8QJ6q"
      },
      "source": [
        "train['GEOLOGY'] = train['GEOLOGY'].apply(lambda x: str(x).replace(\"Biotite Gneiss, Charnockites\", \"Biotite Gneiss\"))\n",
        "train['GEOLOGY'] = train['GEOLOGY'].apply(lambda x: str(x).replace(\"Biotite Gneiss, granulites, pyroxenite\", \"Biotite Gneiss\"))\n",
        "train['GEOLOGY'] = train['GEOLOGY'].apply(lambda x: str(x).replace(\"Biotite Gneiss, granulites, pyroxenites, amphibolites\", \"Biotite Gneiss\"))\n",
        "train['GEOLOGY'] = train['GEOLOGY'].apply(lambda x: str(x).replace(\"Biotite Gneiss,garnet,charnockite gneiss,amphibolites\", \"Biotite Gneiss\"))"
      ],
      "execution_count": null,
      "outputs": []
    },
    {
      "cell_type": "code",
      "metadata": {
        "id": "x356AtQIQNjd"
      },
      "source": [
        "train['GEOLOGY'] = train['GEOLOGY'].apply(lambda x: str(x).replace(\"Biotite Gneiss, Pyroxenite\", \"Biotite Gneiss\"))\n",
        "train['GEOLOGY'] = train['GEOLOGY'].apply(lambda x: str(x).replace(\"Biotite Gneisss, amphibolites\", \"Biotite Gneiss\"))"
      ],
      "execution_count": null,
      "outputs": []
    },
    {
      "cell_type": "code",
      "metadata": {
        "id": "hrGDj4qEQWWV"
      },
      "source": [
        "train['GEOLOGY'] = train['GEOLOGY'].apply(lambda x: str(x).replace(\"Granite, highly weathered\", \"Granite\"))\n",
        "train['GEOLOGY'] = train['GEOLOGY'].apply(lambda x: str(x).replace(\"Granitic gneiss\", \"Granite\"))\n",
        "train['GEOLOGY'] = train['GEOLOGY'].apply(lambda x: str(x).replace(\"Granitic gneiss with pegmatite veins\", \"Granite\"))"
      ],
      "execution_count": null,
      "outputs": []
    },
    {
      "cell_type": "code",
      "metadata": {
        "id": "s-MgsnENQdda"
      },
      "source": [
        "train['GEOLOGY'] = train['GEOLOGY'].apply(lambda x: str(x).replace(\"Granite with pegmatite veins\", \"Granite\"))"
      ],
      "execution_count": null,
      "outputs": []
    },
    {
      "cell_type": "code",
      "metadata": {
        "id": "wZ9yUbsYQfK2"
      },
      "source": [
        "train['GEOLOGY'] = train['GEOLOGY'].apply(lambda x: str(x).replace(\"Hornblende biotite Gneiss weathered\", \"Hornblende biotite Gneiss\"))\n",
        "train['GEOLOGY'] = train['GEOLOGY'].apply(lambda x: str(x).replace(\"Hornblende biotite Gneiss, highly weathered\", \"Hornblende biotite Gneiss\"))\n",
        "train['GEOLOGY'] = train['GEOLOGY'].apply(lambda x: str(x).replace(\"Hornblende gneiss and overburden\", \"Hornblende biotite Gneiss\"))\n",
        "train['GEOLOGY'] = train['GEOLOGY'].apply(lambda x: str(x).replace(\"Overburden, hornblende gneiss\", \"Hornblende biotite Gneiss\"))"
      ],
      "execution_count": null,
      "outputs": []
    },
    {
      "cell_type": "code",
      "metadata": {
        "id": "Ib0ACmhBQoW-"
      },
      "source": [
        "train['GEOLOGY'] = train['GEOLOGY'].apply(lambda x: str(x).replace(\"Charnockite and Hornblende biotite Gneiss\", \"Charnockite\"))\n",
        "train['GEOLOGY'] = train['GEOLOGY'].apply(lambda x: str(x).replace(\"Charnockite and migmatite\", \"Charnockite\"))\n",
        "train['GEOLOGY'] = train['GEOLOGY'].apply(lambda x: str(x).replace(\"Charnockite,weathered\", \"Charnockite\"))\n",
        "train['GEOLOGY'] = train['GEOLOGY'].apply(lambda x: str(x).replace(\"Pink granitic gneiss,  weathered\", \"Pink Granite Gneiss\"))\n",
        "train['GEOLOGY'] = train['GEOLOGY'].apply(lambda x: str(x).replace(\"Pink granitic gneiss, highly weathered\", \"Pink Granite Gneiss\"))"
      ],
      "execution_count": null,
      "outputs": []
    },
    {
      "cell_type": "code",
      "metadata": {
        "id": "xKV_lC2mQzzB"
      },
      "source": [
        "train['GEOLOGY'] = train['GEOLOGY'].apply(lambda x: str(x).replace(\"Calc granulite,weathered\", \"Calc granulite\"))\n",
        "train['GEOLOGY'] = train['GEOLOGY'].apply(lambda x: str(x).replace(\"Calc granulite with limestone\", \"Calc granulite\"))"
      ],
      "execution_count": null,
      "outputs": []
    },
    {
      "cell_type": "code",
      "metadata": {
        "id": "qqb7RnuDQ1lG"
      },
      "source": [
        "train['GEOLOGY'] = train['GEOLOGY'].apply(lambda x: str(x).replace(\"highly weathered\", \"weathered\"))\n",
        "train['GEOLOGY'] = train['GEOLOGY'].apply(lambda x: str(x).replace(\"Rock and overburden\", \"Overburden\"))"
      ],
      "execution_count": null,
      "outputs": []
    },
    {
      "cell_type": "code",
      "metadata": {
        "id": "9cuFDYqiQAB5"
      },
      "source": [
        "train['FAILURE_ME']=train['FAILURE_ME'].replace(r'^\\s*$', np.nan, regex=True)\n",
        "train['FAILURE_ME']=train['FAILURE_ME'].replace('nil', np.nan, regex=True)\n",
        "train['FAILURE_ME']=train['FAILURE_ME'].replace('Shallow transitional failure', 'Shallow Transitional failure', regex=True)\n",
        "train['FAILURE_ME']=train['FAILURE_ME'].replace('Shallow Transtional  Failure', 'Shallow Transitional failure', regex=True)\n",
        "train['FAILURE_ME']=train['FAILURE_ME'].replace('Shallow Rotational  Failure', 'Shallow Rotational failure', regex=True)\n",
        "train['FAILURE_ME']=train['FAILURE_ME'].replace('Deep transitional failure', 'Deep Transitional failure', regex=True)\n",
        "train['FAILURE_ME']=train['FAILURE_ME'].replace('Deep translational failure', 'Deep Transitional failure', regex=True)\n",
        "train['FAILURE_ME']=train['FAILURE_ME'].replace('deep rotational  failure', 'Deep rotational failure', regex=True)\n",
        "train['FAILURE_ME']=train['FAILURE_ME'].replace('Shallow planarl failure', 'Shallow planar failure', regex=True)\n",
        "train['FAILURE_ME']=train['FAILURE_ME'].replace('Shallow rotationall failure', 'Shallow rotational failure', regex=True)\n",
        "train['FAILURE_ME']=train['FAILURE_ME'].replace('Shallow translational', 'Shallow translational failure', regex=True)\n",
        "train['FAILURE_ME']=train['FAILURE_ME'].replace('Shallow translational failure failure', 'Shallow translational failure', regex=True)\n",
        "train['FAILURE_ME']=train['FAILURE_ME'].replace('Shallow planar failure', 'Shallow Planar failure', regex=True)\n",
        "train['FAILURE_ME']=train['FAILURE_ME'].replace('Shallow rotational failure', 'Shallow Rotational failure', regex=True)\n",
        "train['FAILURE_ME']=train['FAILURE_ME'].replace('Shallow translational failure', 'Shallow Transitional failure', regex=True)\n",
        "train['FAILURE_ME'] = train['FAILURE_ME'].apply(lambda x: str(x).replace(\"Shallow planar(Gëñ 5m) failure\",\"Shallow planar (Gëñ 5m) failure\"))\n",
        "train['FAILURE_ME'] = train['FAILURE_ME'].apply(lambda x: str(x).replace(\"Shallow planar (Gëñ 5m) failure\",\"Shallow planar (Gen 5m) failure\"))\n",
        "train['FAILURE_ME'] = train['FAILURE_ME'].apply(lambda x: str(x).replace(\"Shallow rotational(Gëñ 5m) failure\",\"Shallow rotational(Gen 5m) failure\"))\n",
        "train['FAILURE_ME'] = train['FAILURE_ME'].apply(lambda x: str(x).replace(\"Deep planar (GëÑ 5m) failure\",\"Deep planar (Gen 5m) failure\"))\n"
      ],
      "execution_count": null,
      "outputs": []
    },
    {
      "cell_type": "code",
      "metadata": {
        "id": "-1IW0qJrRbqC"
      },
      "source": [
        "train['FAILURE_ME'] = train['FAILURE_ME'].apply(lambda x: str(x).replace(\"Deep planar (Gen 5m) failure\", \"Deep planar failure\"))\n",
        "train['FAILURE_ME'] = train['FAILURE_ME'].apply(lambda x: str(x).replace(\"Shallow Transitional failure(wedge failure)\", \"Shallow Transitional failure\"))\n",
        "train['FAILURE_ME'] = train['FAILURE_ME'].apply(lambda x: str(x).replace(\"Shallow Transitional failure, bank erosion\", \"Shallow Transitional failure\"))\n",
        "train['FAILURE_ME'] = train['FAILURE_ME'].apply(lambda x: str(x).replace(\"Shallow rotational(Gen 5m) failure\",\"Shallow Rotational failure\"))\n",
        "train['FAILURE_ME'] = train['FAILURE_ME'].apply(lambda x: str(x).replace(\"Shallow planar (Gen 5m) failure\",\"Shallow Planar failure\"))"
      ],
      "execution_count": null,
      "outputs": []
    },
    {
      "cell_type": "code",
      "metadata": {
        "id": "SnYNmqzqRmT7"
      },
      "source": [
        "train['FAILURE_ME'] = train['FAILURE_ME'].apply(lambda x: str(x).replace(\"Rotational failure\", \"Shallow Rotational failure\"))"
      ],
      "execution_count": null,
      "outputs": []
    },
    {
      "cell_type": "code",
      "metadata": {
        "id": "F-KjUddURrpF"
      },
      "source": [
        "train['FAILURE_ME'] = train['FAILURE_ME'].apply(lambda x: str(x).replace(\"Shallow Shallow Rotational failure\", \"Shallow Rotational failure\"))"
      ],
      "execution_count": null,
      "outputs": []
    },
    {
      "cell_type": "code",
      "metadata": {
        "id": "zFjzYJK8RR5f"
      },
      "source": [
        "train['GEOMORPHOL']=train['GEOMORPHOL'].replace('Moderately dissected hills', 'Moderately dissected hill', regex=True)\n",
        "train['GEOMORPHOL']=train['GEOMORPHOL'].replace('Lowly dissected hills', 'Lowly dissected hill', regex=True)\n",
        "train['GEOMORPHOL']=train['GEOMORPHOL'].replace('Valley fill','Valley', regex=True)  \n",
        "train['GEOMORPHOL']=train['GEOMORPHOL'].replace(r'^\\s*$', np.nan, regex=True)                                                  \n",
        "train['GEOMORPHOL']=train['GEOMORPHOL'].replace('30°:225°',np.nan, regex=True)\n",
        "train['GEOMORPHOL']=train['GEOMORPHOL'].replace('32°:45°',np.nan, regex=True)\n",
        "train['GEOMORPHOL']=train['GEOMORPHOL'].replace('33°:45°',np.nan, regex=True)\n",
        "train['GEOMORPHOL']=train['GEOMORPHOL'].replace('38°:45°',np.nan, regex=True)\n",
        "train['GEOMORPHOL']=train['GEOMORPHOL'].replace('40°:45°',np.nan, regex=True)\n",
        "train['GEOMORPHOL']=train['GEOMORPHOL'].replace('42°:180°',np.nan, regex=True)\n",
        "train['GEOMORPHOL']=train['GEOMORPHOL'].replace('42°:45°',np.nan, regex=True)\n",
        "train['GEOMORPHOL']=train['GEOMORPHOL'].replace('Slope 30°SW',np.nan, regex=True)\n",
        "train['GEOMORPHOL']=train['GEOMORPHOL'].replace('Slope 32° N & NE. Slide is cataclinal in nature',np.nan, regex=True)\n",
        "train['GEOMORPHOL']=train['GEOMORPHOL'].replace('Slope 32°E & NE, slope at crown is 54° and 22°E at its toe',np.nan, regex=True)\n",
        "train['GEOMORPHOL']=train['GEOMORPHOL'].replace('Slope 32°N & NE. Slide is cataclinal in nature',np.nan, regex=True)\n",
        "train['GEOMORPHOL']=train['GEOMORPHOL'].replace('Slope 33°N & NE',np.nan, regex=True)\n",
        "train['GEOMORPHOL']=train['GEOMORPHOL'].replace('Slope 38°NE & NW',np.nan, regex=True)\n",
        "train['GEOMORPHOL']=train['GEOMORPHOL'].replace('Slope 40°NE & NNE, crown is 80°',np.nan, regex=True)\n",
        "train['GEOMORPHOL']=train['GEOMORPHOL'].replace('Slope 42° E & NE; 42° to 70° towards upper reaches.',np.nan, regex=True)\n",
        "train['GEOMORPHOL']=train['GEOMORPHOL'].replace('Slope 42°S & SW',np.nan, regex=True)"
      ],
      "execution_count": null,
      "outputs": []
    },
    {
      "cell_type": "code",
      "metadata": {
        "id": "fLIA2euyR3DO"
      },
      "source": [
        "train['HYDROLOGIC']=train['HYDROLOGIC'].replace(r'^\\s*$', np.nan, regex=True)\n",
        "train['HYDROLOGIC']=train['HYDROLOGIC'].replace('Wet at source region and Flowing at the toe area', 'Wet', regex=True)"
      ],
      "execution_count": null,
      "outputs": []
    },
    {
      "cell_type": "code",
      "metadata": {
        "colab": {
          "base_uri": "https://localhost:8080/"
        },
        "id": "uT09peiFSA_X",
        "outputId": "f067006d-5763-4acb-9f2e-173171e7e570"
      },
      "source": [
        "train.columns"
      ],
      "execution_count": null,
      "outputs": [
        {
          "output_type": "execute_result",
          "data": {
            "text/plain": [
              "Index(['GEOLOGY', 'SLIDE_TYPE', 'FAILURE_ME', 'GEOMORPHOL', 'HYDROLOGIC',\n",
              "       'TRIGGERING', 'LU_2010', 'LU_2018', 'RECL_SLOPE', 'RCLS_ASPEC',\n",
              "       'D_RainFall'],\n",
              "      dtype='object')"
            ]
          },
          "metadata": {},
          "execution_count": 165
        }
      ]
    },
    {
      "cell_type": "code",
      "metadata": {
        "id": "g53-Jp43SDF5"
      },
      "source": [
        "train['TRIGGERING']=train['TRIGGERING'].replace(r'^\\s*$', np.nan, regex=True)"
      ],
      "execution_count": null,
      "outputs": []
    },
    {
      "cell_type": "code",
      "metadata": {
        "colab": {
          "base_uri": "https://localhost:8080/"
        },
        "id": "ecfojb2ESYJH",
        "outputId": "da7879c5-2abe-4a76-a679-8fbb295434ce"
      },
      "source": [
        "train['TRIGGERING'].value_counts(dropna=False).sort_index()"
      ],
      "execution_count": null,
      "outputs": [
        {
          "output_type": "execute_result",
          "data": {
            "text/plain": [
              "Heavy Rainfall     613\n",
              "Rainfall          1151\n",
              "NaN                  4\n",
              "Name: TRIGGERING, dtype: int64"
            ]
          },
          "metadata": {},
          "execution_count": 167
        }
      ]
    },
    {
      "cell_type": "code",
      "metadata": {
        "id": "G03jtIGJSbIm"
      },
      "source": [
        "train['D_RainFall']=train['D_RainFall'].replace('--', np.nan, regex=True)\n",
        "train['D_RainFall']=train['D_RainFall'].fillna(train['D_RainFall'].mean())"
      ],
      "execution_count": null,
      "outputs": []
    },
    {
      "cell_type": "code",
      "metadata": {
        "colab": {
          "base_uri": "https://localhost:8080/"
        },
        "id": "HBJe9XaYTRLA",
        "outputId": "46c3105d-b1c5-4cc9-dc21-1a88790d7f61"
      },
      "source": [
        "train.columns"
      ],
      "execution_count": null,
      "outputs": [
        {
          "output_type": "execute_result",
          "data": {
            "text/plain": [
              "Index(['GEOLOGY', 'SLIDE_TYPE', 'FAILURE_ME', 'GEOMORPHOL', 'HYDROLOGIC',\n",
              "       'TRIGGERING', 'LU_2010', 'LU_2018', 'RECL_SLOPE', 'RCLS_ASPEC',\n",
              "       'D_RainFall'],\n",
              "      dtype='object')"
            ]
          },
          "metadata": {},
          "execution_count": 169
        }
      ]
    },
    {
      "cell_type": "code",
      "metadata": {
        "colab": {
          "base_uri": "https://localhost:8080/"
        },
        "id": "LdydlGbqTS4R",
        "outputId": "853017b0-e4d0-4ee1-8894-d76f006d3704"
      },
      "source": [
        "train.shape"
      ],
      "execution_count": null,
      "outputs": [
        {
          "output_type": "execute_result",
          "data": {
            "text/plain": [
              "(1768, 11)"
            ]
          },
          "metadata": {},
          "execution_count": 170
        }
      ]
    },
    {
      "cell_type": "code",
      "metadata": {
        "id": "NbO8faGHSjEr"
      },
      "source": [
        "train.dropna(subset = [\"SLIDE_TYPE\"], inplace=True)"
      ],
      "execution_count": null,
      "outputs": []
    },
    {
      "cell_type": "code",
      "metadata": {
        "id": "dxjmjmhrSnhw"
      },
      "source": [
        "train['SLIDE_TYPE']=train['SLIDE_TYPE'].astype('category')"
      ],
      "execution_count": null,
      "outputs": []
    },
    {
      "cell_type": "code",
      "metadata": {
        "colab": {
          "base_uri": "https://localhost:8080/",
          "height": 204
        },
        "id": "Ra92iW7ySx47",
        "outputId": "e984f469-e638-4285-96e8-bbc8c6094bef"
      },
      "source": [
        "train.head()"
      ],
      "execution_count": null,
      "outputs": [
        {
          "output_type": "execute_result",
          "data": {
            "text/html": [
              "<div>\n",
              "<style scoped>\n",
              "    .dataframe tbody tr th:only-of-type {\n",
              "        vertical-align: middle;\n",
              "    }\n",
              "\n",
              "    .dataframe tbody tr th {\n",
              "        vertical-align: top;\n",
              "    }\n",
              "\n",
              "    .dataframe thead th {\n",
              "        text-align: right;\n",
              "    }\n",
              "</style>\n",
              "<table border=\"1\" class=\"dataframe\">\n",
              "  <thead>\n",
              "    <tr style=\"text-align: right;\">\n",
              "      <th></th>\n",
              "      <th>GEOLOGY</th>\n",
              "      <th>SLIDE_TYPE</th>\n",
              "      <th>FAILURE_ME</th>\n",
              "      <th>GEOMORPHOL</th>\n",
              "      <th>HYDROLOGIC</th>\n",
              "      <th>TRIGGERING</th>\n",
              "      <th>LU_2010</th>\n",
              "      <th>LU_2018</th>\n",
              "      <th>RECL_SLOPE</th>\n",
              "      <th>RCLS_ASPEC</th>\n",
              "      <th>D_RainFall</th>\n",
              "    </tr>\n",
              "  </thead>\n",
              "  <tbody>\n",
              "    <tr>\n",
              "      <th>0</th>\n",
              "      <td>Biotite Gneiss</td>\n",
              "      <td>DebrisFall</td>\n",
              "      <td>nan</td>\n",
              "      <td>NaN</td>\n",
              "      <td>NaN</td>\n",
              "      <td>Heavy Rainfall</td>\n",
              "      <td>FMP</td>\n",
              "      <td>FMP</td>\n",
              "      <td>4</td>\n",
              "      <td>9</td>\n",
              "      <td>4.0</td>\n",
              "    </tr>\n",
              "    <tr>\n",
              "      <th>1</th>\n",
              "      <td>Biotite Gneiss</td>\n",
              "      <td>DebrisFall</td>\n",
              "      <td>nan</td>\n",
              "      <td>NaN</td>\n",
              "      <td>NaN</td>\n",
              "      <td>Heavy Rainfall</td>\n",
              "      <td>FMP</td>\n",
              "      <td>FMP</td>\n",
              "      <td>4</td>\n",
              "      <td>4</td>\n",
              "      <td>4.0</td>\n",
              "    </tr>\n",
              "    <tr>\n",
              "      <th>2</th>\n",
              "      <td>Biotite Gneiss</td>\n",
              "      <td>DebrisFall</td>\n",
              "      <td>nan</td>\n",
              "      <td>NaN</td>\n",
              "      <td>NaN</td>\n",
              "      <td>Heavy Rainfall</td>\n",
              "      <td>FDN</td>\n",
              "      <td>FDN</td>\n",
              "      <td>5</td>\n",
              "      <td>2</td>\n",
              "      <td>4.0</td>\n",
              "    </tr>\n",
              "    <tr>\n",
              "      <th>3</th>\n",
              "      <td>Biotite Gneiss</td>\n",
              "      <td>DebrisFall</td>\n",
              "      <td>Shallow Transitional failure</td>\n",
              "      <td>NaN</td>\n",
              "      <td>NaN</td>\n",
              "      <td>Heavy Rainfall</td>\n",
              "      <td>ROA</td>\n",
              "      <td>ROA</td>\n",
              "      <td>5</td>\n",
              "      <td>9</td>\n",
              "      <td>4.0</td>\n",
              "    </tr>\n",
              "    <tr>\n",
              "      <th>4</th>\n",
              "      <td>Biotite Gneiss</td>\n",
              "      <td>DebrisFall</td>\n",
              "      <td>Deep Transitional failure</td>\n",
              "      <td>NaN</td>\n",
              "      <td>NaN</td>\n",
              "      <td>Heavy Rainfall</td>\n",
              "      <td>SPL</td>\n",
              "      <td>FMP</td>\n",
              "      <td>3</td>\n",
              "      <td>9</td>\n",
              "      <td>4.0</td>\n",
              "    </tr>\n",
              "  </tbody>\n",
              "</table>\n",
              "</div>"
            ],
            "text/plain": [
              "          GEOLOGY  SLIDE_TYPE  ... RCLS_ASPEC D_RainFall\n",
              "0  Biotite Gneiss  DebrisFall  ...          9        4.0\n",
              "1  Biotite Gneiss  DebrisFall  ...          4        4.0\n",
              "2  Biotite Gneiss  DebrisFall  ...          2        4.0\n",
              "3  Biotite Gneiss  DebrisFall  ...          9        4.0\n",
              "4  Biotite Gneiss  DebrisFall  ...          9        4.0\n",
              "\n",
              "[5 rows x 11 columns]"
            ]
          },
          "metadata": {},
          "execution_count": 173
        }
      ]
    },
    {
      "cell_type": "code",
      "metadata": {
        "id": "oPXU3JRxSpZW"
      },
      "source": [
        "LU_COMP=[]\n",
        "for i in range(len(train)) :\n",
        "  if(train.iloc[i, 6]==train.iloc[i, 7]):\n",
        "      LU_COMP.append(0)\n",
        "  else:\n",
        "      LU_COMP.append(1)\n"
      ],
      "execution_count": null,
      "outputs": []
    },
    {
      "cell_type": "code",
      "metadata": {
        "id": "d-XUE6EeSszz"
      },
      "source": [
        "train['LU_COMP'] = LU_COMP"
      ],
      "execution_count": null,
      "outputs": []
    },
    {
      "cell_type": "code",
      "metadata": {
        "id": "YpvLafUpSu10"
      },
      "source": [
        "train.drop('LU_2010',axis=1,inplace=True)\n",
        "train.drop('LU_2018',axis=1,inplace=True)"
      ],
      "execution_count": null,
      "outputs": []
    },
    {
      "cell_type": "code",
      "metadata": {
        "colab": {
          "base_uri": "https://localhost:8080/"
        },
        "id": "c2VPh99SSvBI",
        "outputId": "bf2642be-3422-409c-ffc1-7c091639ed15"
      },
      "source": [
        "train.shape"
      ],
      "execution_count": null,
      "outputs": [
        {
          "output_type": "execute_result",
          "data": {
            "text/plain": [
              "(1768, 10)"
            ]
          },
          "metadata": {},
          "execution_count": 177
        }
      ]
    },
    {
      "cell_type": "code",
      "metadata": {
        "id": "H3Kbk982TrkZ"
      },
      "source": [
        "X=train.drop(['SLIDE_TYPE'],axis=1)"
      ],
      "execution_count": null,
      "outputs": []
    },
    {
      "cell_type": "code",
      "metadata": {
        "id": "ooQ3QN0-TzEr"
      },
      "source": [
        "x=pd.get_dummies(X,drop_first=True)"
      ],
      "execution_count": null,
      "outputs": []
    },
    {
      "cell_type": "code",
      "metadata": {
        "colab": {
          "base_uri": "https://localhost:8080/"
        },
        "id": "yb_yFADxT0he",
        "outputId": "7295d9c4-7f57-4f82-cba7-d61fd7fb8423"
      },
      "source": [
        "x.shape"
      ],
      "execution_count": null,
      "outputs": [
        {
          "output_type": "execute_result",
          "data": {
            "text/plain": [
              "(1768, 43)"
            ]
          },
          "metadata": {},
          "execution_count": 180
        }
      ]
    },
    {
      "cell_type": "code",
      "metadata": {
        "id": "8V0QVoi8T1xU"
      },
      "source": [
        "\n",
        "x[\"RECL_SLOPE\"] = x[\"RECL_SLOPE\"].astype('category')\n",
        "x[\"RCLS_ASPEC\"] = x[\"RCLS_ASPEC\"].astype('category')\n",
        "\n",
        "x[\"RECL_SLOPE\"] = x[\"RECL_SLOPE\"].cat.codes\n",
        "x[\"RCLS_ASPEC\"] = x[\"RCLS_ASPEC\"].cat.codes"
      ],
      "execution_count": null,
      "outputs": []
    },
    {
      "cell_type": "code",
      "metadata": {
        "id": "9T4-dXRYT4-6"
      },
      "source": [
        "y=train.SLIDE_TYPE\n",
        "column_name=list(x.columns)\n",
        "x = x.reindex(columns=column_name)"
      ],
      "execution_count": null,
      "outputs": []
    },
    {
      "cell_type": "code",
      "metadata": {
        "id": "rU75bexWT88R"
      },
      "source": [
        "y=y.cat.codes"
      ],
      "execution_count": null,
      "outputs": []
    },
    {
      "cell_type": "code",
      "metadata": {
        "id": "Of_VO_lvT-KR"
      },
      "source": [
        "X=x\n",
        "Y=y"
      ],
      "execution_count": null,
      "outputs": []
    },
    {
      "cell_type": "code",
      "metadata": {
        "colab": {
          "base_uri": "https://localhost:8080/"
        },
        "id": "uaHnziUuUPu_",
        "outputId": "efc8cfb0-6e23-45ab-e4f1-6a7aff865a65"
      },
      "source": [
        "X.shape"
      ],
      "execution_count": null,
      "outputs": [
        {
          "output_type": "execute_result",
          "data": {
            "text/plain": [
              "(1768, 43)"
            ]
          },
          "metadata": {},
          "execution_count": 185
        }
      ]
    },
    {
      "cell_type": "code",
      "metadata": {
        "id": "RK6bLP4XT_Vp"
      },
      "source": [
        "from sklearn.preprocessing import StandardScaler\n",
        "\n",
        "# copy of datasets\n",
        "X_stand = X.copy()\n",
        "\n",
        "\n",
        "# numerical features\n",
        "num_cols = ['D_RainFall']\n",
        "\n",
        "# apply standardization on numerical features\n",
        "for i in num_cols:\n",
        "    \n",
        "    # fit on training data column\n",
        "    scale = StandardScaler().fit(X_stand[[i]])"
      ],
      "execution_count": null,
      "outputs": []
    },
    {
      "cell_type": "code",
      "metadata": {
        "id": "Q27REdaqUAJf"
      },
      "source": [
        "X_standnew=X_stand.iloc[:,:]"
      ],
      "execution_count": null,
      "outputs": []
    },
    {
      "cell_type": "code",
      "metadata": {
        "colab": {
          "base_uri": "https://localhost:8080/"
        },
        "id": "MoLZ6khFUeQF",
        "outputId": "c3f60d49-c952-43fd-80bd-15cdc17e910c"
      },
      "source": [
        "X_standnew.shape"
      ],
      "execution_count": null,
      "outputs": [
        {
          "output_type": "execute_result",
          "data": {
            "text/plain": [
              "(1768, 43)"
            ]
          },
          "metadata": {},
          "execution_count": 188
        }
      ]
    },
    {
      "cell_type": "code",
      "metadata": {
        "id": "Z0NJBBzrVBGq"
      },
      "source": [
        "X_standnew.drop(['TRIGGERING_Rainfall'],axis=1,inplace=True)"
      ],
      "execution_count": null,
      "outputs": []
    },
    {
      "cell_type": "code",
      "metadata": {
        "colab": {
          "base_uri": "https://localhost:8080/"
        },
        "id": "qmuoWGXkUfaI",
        "outputId": "5517ec9f-c89e-476f-aba5-723d94625f66"
      },
      "source": [
        "from imblearn.over_sampling import SMOTE\n",
        "sm = SMOTE()\n",
        "resampled_training_inputs, resampled_training_outputs_labels = sm.fit_resample(X_standnew, Y)"
      ],
      "execution_count": null,
      "outputs": [
        {
          "output_type": "stream",
          "name": "stderr",
          "text": [
            "/usr/local/lib/python3.7/dist-packages/sklearn/utils/deprecation.py:87: FutureWarning: Function safe_indexing is deprecated; safe_indexing is deprecated in version 0.22 and will be removed in version 0.24.\n",
            "  warnings.warn(msg, category=FutureWarning)\n",
            "/usr/local/lib/python3.7/dist-packages/sklearn/utils/deprecation.py:87: FutureWarning: Function safe_indexing is deprecated; safe_indexing is deprecated in version 0.22 and will be removed in version 0.24.\n",
            "  warnings.warn(msg, category=FutureWarning)\n"
          ]
        }
      ]
    },
    {
      "cell_type": "code",
      "metadata": {
        "id": "Bs3-v5ofwW2M"
      },
      "source": [
        "from sklearn.model_selection import train_test_split"
      ],
      "execution_count": null,
      "outputs": []
    },
    {
      "cell_type": "code",
      "metadata": {
        "id": "YKt50uu0Ul0r"
      },
      "source": [
        "from sklearn.model_selection import train_test_split\n",
        "X_train, X_test, y_train, y_test = train_test_split(resampled_training_inputs, resampled_training_outputs_labels, test_size=0.33,random_state=11)"
      ],
      "execution_count": null,
      "outputs": []
    },
    {
      "cell_type": "code",
      "metadata": {
        "id": "FTSgQ-B9Uoar"
      },
      "source": [
        "from sklearn.multiclass import OneVsRestClassifier\n",
        "from xgboost import XGBClassifier\n",
        "xgb_classifier = OneVsRestClassifier(XGBClassifier())\n",
        "xgb_classifier.fit(np.array(X_train), y_train)\n",
        "xbg_predictions_labels = xgb_classifier.predict(X_test)"
      ],
      "execution_count": null,
      "outputs": []
    },
    {
      "cell_type": "code",
      "metadata": {
        "colab": {
          "base_uri": "https://localhost:8080/"
        },
        "id": "OcZIyCRKUpsL",
        "outputId": "5f97ef28-344e-4a57-93f1-404cc719888d"
      },
      "source": [
        "from sklearn.metrics import classification_report\n",
        "print('\\nClassification Report\\n')\n",
        "print(classification_report(y_test, xbg_predictions_labels, target_names=['Class 1', 'Class 2', 'Class 3']))"
      ],
      "execution_count": null,
      "outputs": [
        {
          "output_type": "stream",
          "name": "stdout",
          "text": [
            "\n",
            "Classification Report\n",
            "\n",
            "              precision    recall  f1-score   support\n",
            "\n",
            "     Class 1       0.94      0.98      0.96       575\n",
            "     Class 2       0.99      0.99      0.99       551\n",
            "     Class 3       0.99      0.94      0.97       557\n",
            "\n",
            "    accuracy                           0.97      1683\n",
            "   macro avg       0.97      0.97      0.97      1683\n",
            "weighted avg       0.97      0.97      0.97      1683\n",
            "\n"
          ]
        }
      ]
    },
    {
      "cell_type": "code",
      "metadata": {
        "colab": {
          "base_uri": "https://localhost:8080/",
          "height": 301
        },
        "id": "5IDc6QvM4iUW",
        "outputId": "c4735094-b44b-4450-d172-c38d7c4a6e37"
      },
      "source": [
        "from sklearn.metrics import roc_curve, auc\n",
        "from sklearn import datasets\n",
        "from sklearn.multiclass import OneVsRestClassifier\n",
        "\n",
        "from sklearn.preprocessing import label_binarize\n",
        "\n",
        "import matplotlib.pyplot as plt\n",
        "\n",
        "y = label_binarize(resampled_training_outputs_labels, classes=[0,1,2])\n",
        "n_classes = 3\n",
        "\n",
        "# shuffle and split training and test sets\n",
        "X_train, X_test, y_train, y_test =\\\n",
        "    train_test_split(resampled_training_inputs, y, test_size=0.33, random_state=0)\n",
        "\n",
        "# classifier\n",
        "y_score = xgb_classifier.fit(X_train, y_train).predict(X_test)\n",
        "\n",
        "\n",
        "fpr = dict()\n",
        "tpr = dict()\n",
        "roc_auc = dict()\n",
        "for i in range(n_classes):\n",
        "    fpr[i], tpr[i], _ = roc_curve(y_test[:, i], y_score[:, i])\n",
        "    roc_auc[i] = auc(fpr[i], tpr[i])\n",
        "\n",
        "classlist=['Debris Flow','Rock Fall','Surficial Slide']\n",
        "for (i,classlists) in zip(range(n_classes),classlist):\n",
        "    plt.plot(fpr[i], tpr[i],\n",
        "             label='ROC curve of class {}'.format(classlists)+'(area = {1:0.2f})'\n",
        "             ''.format(i, roc_auc[i]))\n",
        "\n",
        "plt.plot([0, 1], [0, 1], 'k--')\n",
        "plt.xlim([0.0, 1.0])\n",
        "plt.ylim([0.0, 1.05])\n",
        "plt.xlabel('False Positive Rate')\n",
        "plt.ylabel('True Positive Rate')\n",
        "plt.title('Receiver operating characteristic of XGBoost')\n",
        "plt.legend(loc=\"lower right\")\n",
        "plt.show()"
      ],
      "execution_count": null,
      "outputs": [
        {
          "output_type": "display_data",
          "data": {
            "image/png": "[encoded data removed]",
            "text/plain": [
              "<Figure size 432x288 with 1 Axes>"
            ]
          },
          "metadata": {
            "needs_background": "light"
          }
        }
      ]
    },
    {
      "cell_type": "code",
      "metadata": {
        "colab": {
          "base_uri": "https://localhost:8080/"
        },
        "id": "rgySrZZTozBK",
        "outputId": "86771ff6-30b1-4803-d2f4-dee699f64453"
      },
      "source": [
        "from sklearn.metrics import roc_auc_score\n",
        "\n",
        "\n",
        "# You need the labels to binarize\n",
        "labels = [0, 1, 2]\n",
        "\n",
        "\n",
        "# Binarize ytest with shape (n_samples, n_classes)\n",
        "y_test = label_binarize(y_test, classes=labels)\n",
        "\n",
        "\n",
        "\n",
        "# Binarize ypreds with shape (n_samples, n_classes)\n",
        "xbg_predictions_labels = label_binarize(xbg_predictions_labels, classes=labels)\n",
        "\n",
        "\n",
        "roc_auc_score(y_test, xbg_predictions_labels,average='macro',multi_class='ovo')"
      ],
      "execution_count": null,
      "outputs": [
        {
          "output_type": "execute_result",
          "data": {
            "text/plain": [
              "0.4822548826428035"
            ]
          },
          "metadata": {},
          "execution_count": 196
        }
      ]
    },
    {
      "cell_type": "code",
      "metadata": {
        "id": "cbi3iLSxK4AH"
      },
      "source": [
        "from sklearn.model_selection import train_test_split\n",
        "X_train, X_test, y_train, y_test = train_test_split(resampled_training_inputs, resampled_training_outputs_labels, test_size=0.33,random_state=11)"
      ],
      "execution_count": null,
      "outputs": []
    },
    {
      "cell_type": "code",
      "metadata": {
        "id": "BeEe7eABU3tr"
      },
      "source": [
        "from sklearn.ensemble import RandomForestClassifier\n",
        "rf = RandomForestClassifier(max_depth = 12, min_samples_leaf = 2, min_samples_split = 2, n_estimators = 3000,max_features='auto')\n",
        "rf=rf.fit(X_train, y_train)"
      ],
      "execution_count": null,
      "outputs": []
    },
    {
      "cell_type": "code",
      "metadata": {
        "colab": {
          "base_uri": "https://localhost:8080/"
        },
        "id": "VCugBRoCVgA4",
        "outputId": "41600936-e757-44fb-9e4f-96baa0c8754d"
      },
      "source": [
        "y_pred = rf.predict(X_test)\n",
        "from sklearn.metrics import classification_report\n",
        "print('\\nClassification Report\\n')\n",
        "print(classification_report(y_test, y_pred, target_names=['Class 1', 'Class 2', 'Class 3']))"
      ],
      "execution_count": null,
      "outputs": [
        {
          "output_type": "stream",
          "name": "stdout",
          "text": [
            "\n",
            "Classification Report\n",
            "\n",
            "              precision    recall  f1-score   support\n",
            "\n",
            "     Class 1       0.96      0.95      0.96       575\n",
            "     Class 2       0.99      0.99      0.99       551\n",
            "     Class 3       0.97      0.97      0.97       557\n",
            "\n",
            "    accuracy                           0.97      1683\n",
            "   macro avg       0.97      0.97      0.97      1683\n",
            "weighted avg       0.97      0.97      0.97      1683\n",
            "\n"
          ]
        }
      ]
    },
    {
      "cell_type": "code",
      "metadata": {
        "id": "ZQyVA_Lu1GpS"
      },
      "source": [
        "from sklearn.tree import DecisionTreeClassifier\n",
        "dtree_model = DecisionTreeClassifier(max_depth = 8).fit(X_train, y_train)\n",
        "dtree_predictions = dtree_model.predict(X_train)"
      ],
      "execution_count": null,
      "outputs": []
    },
    {
      "cell_type": "code",
      "metadata": {
        "id": "dR05Fn50WwM8"
      },
      "source": [
        "from sklearn.metrics import confusion_matrix"
      ],
      "execution_count": null,
      "outputs": []
    },
    {
      "cell_type": "code",
      "metadata": {
        "id": "wRL-Ig7HYYiH"
      },
      "source": [
        "y_test_pred = dtree_model.predict(X_test)\n",
        "y_train_pred = dtree_model.predict(X_train)"
      ],
      "execution_count": null,
      "outputs": []
    },
    {
      "cell_type": "code",
      "metadata": {
        "colab": {
          "base_uri": "https://localhost:8080/"
        },
        "id": "Y19kcZjlfjEr",
        "outputId": "745e6dda-d3db-4844-9fe4-64d772a3ca7e"
      },
      "source": [
        "y_test_pred"
      ],
      "execution_count": null,
      "outputs": [
        {
          "output_type": "execute_result",
          "data": {
            "text/plain": [
              "array([2, 1, 1, ..., 1, 2, 2], dtype=int8)"
            ]
          },
          "metadata": {},
          "execution_count": 203
        }
      ]
    },
    {
      "cell_type": "code",
      "metadata": {
        "colab": {
          "base_uri": "https://localhost:8080/"
        },
        "id": "ZHkr_xzyfmRJ",
        "outputId": "4fda7d4c-b7ab-42c7-dcd7-377bff1f8ae3"
      },
      "source": [
        "y_train_pred"
      ],
      "execution_count": null,
      "outputs": [
        {
          "output_type": "execute_result",
          "data": {
            "text/plain": [
              "array([0, 2, 0, ..., 2, 2, 1], dtype=int8)"
            ]
          },
          "metadata": {},
          "execution_count": 204
        }
      ]
    },
    {
      "cell_type": "code",
      "metadata": {
        "colab": {
          "base_uri": "https://localhost:8080/"
        },
        "id": "hbSfNU95f0pq",
        "outputId": "95d6183b-a0c0-40a8-d1be-3334abeefccf"
      },
      "source": [
        "y_test"
      ],
      "execution_count": null,
      "outputs": [
        {
          "output_type": "execute_result",
          "data": {
            "text/plain": [
              "array([0, 1, 1, ..., 1, 2, 2], dtype=int8)"
            ]
          },
          "metadata": {},
          "execution_count": 205
        }
      ]
    },
    {
      "cell_type": "code",
      "metadata": {
        "colab": {
          "base_uri": "https://localhost:8080/"
        },
        "id": "LyhJjwQaf29S",
        "outputId": "7f7a8687-c596-40af-b118-bcb4863a5e52"
      },
      "source": [
        "y_train"
      ],
      "execution_count": null,
      "outputs": [
        {
          "output_type": "execute_result",
          "data": {
            "text/plain": [
              "array([0, 2, 0, ..., 2, 2, 1], dtype=int8)"
            ]
          },
          "metadata": {},
          "execution_count": 206
        }
      ]
    },
    {
      "cell_type": "code",
      "metadata": {
        "id": "B2z6BWmOW6DE"
      },
      "source": [
        "def plot_confusion_matrixes(y_train,y_train_pred,y_test,y_test_pred):\n",
        "    sns.set(font_scale = 1)\n",
        "    cm_train = confusion_matrix(y_train,y_train_pred)\n",
        "    cm_test =  confusion_matrix(y_test,y_test_pred)\n",
        "    class_label = [\"DF\",\"RF\",\"SS\"]\n",
        "    df_train = pd.DataFrame(cm_train, index = class_label, columns = class_label)\n",
        "    df_test = pd.DataFrame(cm_test, index = class_label, columns = class_label)\n",
        "    f, axes = plt.subplots(1, 2,figsize=(12,4))\n",
        "\n",
        "    for i in range(2):\n",
        "      df = df_train if i==0 else df_test\n",
        "      sns.heatmap(df, annot = True, fmt = \"d\",ax=axes[i])\n",
        "      axes[i].set_title(f\"Confusion Matrix - {'Train' if i==0 else 'Test'}\")\n",
        "      axes[i].set_xlabel(\"Predicted Label\")\n",
        "      axes[i].set_ylabel(\"True Label\")\n",
        "    plt.show()"
      ],
      "execution_count": null,
      "outputs": []
    },
    {
      "cell_type": "code",
      "metadata": {
        "colab": {
          "base_uri": "https://localhost:8080/",
          "height": 301
        },
        "id": "ixT_eOdOfRgB",
        "outputId": "3cf1797d-d476-4a60-8826-7d2821328faf"
      },
      "source": [
        "plot_confusion_matrixes(y_train,y_train_pred,y_test,y_test_pred)"
      ],
      "execution_count": null,
      "outputs": [
        {
          "output_type": "display_data",
          "data": {
            "image/png": "[encoded data removed]",
            "text/plain": [
              "<Figure size 864x288 with 4 Axes>"
            ]
          },
          "metadata": {}
        }
      ]
    },
    {
      "cell_type": "code",
      "metadata": {
        "id": "SlNskvcoyxyE"
      },
      "source": [
        "from sklearn import svm\n",
        "from sklearn.svm import SVC\n",
        "classifier = OneVsRestClassifier(svm.SVC(kernel='poly', probability=True)).fit(X_train, y_train)\n",
        "y_test_pred = classifier.predict(X_test)\n",
        "y_train_pred = classifier.predict(X_train)\n"
      ],
      "execution_count": null,
      "outputs": []
    },
    {
      "cell_type": "code",
      "metadata": {
        "id": "aDXMVwUnyOWx"
      },
      "source": [
        "def plot_confusion_matrixes(y_train,y_train_pred,y_test,y_test_pred):\n",
        "    sns.set(font_scale = 1)\n",
        "    cm_train = confusion_matrix(y_train,y_train_pred)\n",
        "    cm_test =  confusion_matrix(y_test,y_test_pred)\n",
        "    class_label = [\"DF\",\"RF\",\"SS\"]\n",
        "    df_train = pd.DataFrame(cm_train, index = class_label, columns = class_label)\n",
        "    df_test = pd.DataFrame(cm_test, index = class_label, columns = class_label)\n",
        "    f, axes = plt.subplots(1, 2,figsize=(12,4))\n",
        "\n",
        "    for i in range(2):\n",
        "      df = df_train if i==0 else df_test\n",
        "      sns.heatmap(df, annot = True, fmt = \"d\",ax=axes[i])\n",
        "      axes[i].set_title(f\"Confusion Matrix - {'Train' if i==0 else 'Test'}\")\n",
        "      axes[i].set_xlabel(\"Predicted Label\")\n",
        "      axes[i].set_ylabel(\"True Label\")\n",
        "    plt.show()"
      ],
      "execution_count": null,
      "outputs": []
    },
    {
      "cell_type": "code",
      "metadata": {
        "colab": {
          "base_uri": "https://localhost:8080/",
          "height": 301
        },
        "id": "Eyu_0eefytIo",
        "outputId": "949d0a40-66ef-4fb7-95a9-56413b61126d"
      },
      "source": [
        "plot_confusion_matrixes(y_train,y_train_pred,y_test,y_test_pred)"
      ],
      "execution_count": null,
      "outputs": [
        {
          "output_type": "display_data",
          "data": {
            "image/png": "[encoded data removed]",
            "text/plain": [
              "<Figure size 864x288 with 4 Axes>"
            ]
          },
          "metadata": {}
        }
      ]
    }
  ]
}